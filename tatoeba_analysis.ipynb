{
 "cells": [
  {
   "cell_type": "code",
   "execution_count": 1,
   "metadata": {},
   "outputs": [],
   "source": [
    "import pandas as pd\n",
    "from collections import Counter\n",
    "import spacy\n",
    "import numpy as np\n",
    "import matplotlib\n",
    "import string"
   ]
  },
  {
   "cell_type": "code",
   "execution_count": 2,
   "metadata": {},
   "outputs": [
    {
     "data": {
      "text/plain": [
       "'/Users/lukachabaud/Desktop/TFG/Project'"
      ]
     },
     "execution_count": 2,
     "metadata": {},
     "output_type": "execute_result"
    }
   ],
   "source": [
    "%pwd"
   ]
  },
  {
   "cell_type": "markdown",
   "metadata": {},
   "source": [
    "First we load the data into a dataframe"
   ]
  },
  {
   "cell_type": "code",
   "execution_count": 3,
   "metadata": {},
   "outputs": [
    {
     "data": {
      "text/html": [
       "<div>\n",
       "<style scoped>\n",
       "    .dataframe tbody tr th:only-of-type {\n",
       "        vertical-align: middle;\n",
       "    }\n",
       "\n",
       "    .dataframe tbody tr th {\n",
       "        vertical-align: top;\n",
       "    }\n",
       "\n",
       "    .dataframe thead th {\n",
       "        text-align: right;\n",
       "    }\n",
       "</style>\n",
       "<table border=\"1\" class=\"dataframe\">\n",
       "  <thead>\n",
       "    <tr style=\"text-align: right;\">\n",
       "      <th></th>\n",
       "      <th>sentences</th>\n",
       "    </tr>\n",
       "  </thead>\n",
       "  <tbody>\n",
       "    <tr>\n",
       "      <th>0</th>\n",
       "      <td>Provem quelcom!</td>\n",
       "    </tr>\n",
       "    <tr>\n",
       "      <th>1</th>\n",
       "      <td>Provem alguna cosa!</td>\n",
       "    </tr>\n",
       "    <tr>\n",
       "      <th>2</th>\n",
       "      <td>A vegades pot ser un noi estrany.</td>\n",
       "    </tr>\n",
       "    <tr>\n",
       "      <th>3</th>\n",
       "      <td>Aixo depen del contexte</td>\n",
       "    </tr>\n",
       "    <tr>\n",
       "      <th>4</th>\n",
       "      <td>Això depèn del context.</td>\n",
       "    </tr>\n",
       "    <tr>\n",
       "      <th>...</th>\n",
       "      <td>...</td>\n",
       "    </tr>\n",
       "    <tr>\n",
       "      <th>2854</th>\n",
       "      <td>Li va cantar una canço.</td>\n",
       "    </tr>\n",
       "    <tr>\n",
       "      <th>2855</th>\n",
       "      <td>En algunes llunes d'aquell gegant de gas hi ha...</td>\n",
       "    </tr>\n",
       "    <tr>\n",
       "      <th>2856</th>\n",
       "      <td>Quantes preguntes has contestat?</td>\n",
       "    </tr>\n",
       "    <tr>\n",
       "      <th>2857</th>\n",
       "      <td>Plou a bots i barrals.</td>\n",
       "    </tr>\n",
       "    <tr>\n",
       "      <th>2858</th>\n",
       "      <td>\\n</td>\n",
       "    </tr>\n",
       "  </tbody>\n",
       "</table>\n",
       "<p>2859 rows × 1 columns</p>\n",
       "</div>"
      ],
      "text/plain": [
       "                                              sentences\n",
       "0                                       Provem quelcom!\n",
       "1                                   Provem alguna cosa!\n",
       "2                     A vegades pot ser un noi estrany.\n",
       "3                               Aixo depen del contexte\n",
       "4                               Això depèn del context.\n",
       "...                                                 ...\n",
       "2854                            Li va cantar una canço.\n",
       "2855  En algunes llunes d'aquell gegant de gas hi ha...\n",
       "2856                   Quantes preguntes has contestat?\n",
       "2857                             Plou a bots i barrals.\n",
       "2858                                                 \\n\n",
       "\n",
       "[2859 rows x 1 columns]"
      ]
     },
     "metadata": {},
     "output_type": "display_data"
    }
   ],
   "source": [
    "DATA_PATH = \"data/Tatoeba Corpus/ca-es.txt/Tatoeba.ca-es.ca\"\n",
    "\n",
    "with open(DATA_PATH, \"r\") as fp:\n",
    "    lines = fp.readlines()\n",
    "    prep_lines = [line.replace(\" \\n\", \"\") for line in lines]\n",
    "    df = pd.DataFrame(prep_lines, columns=[\"sentences\"])\n",
    "    \n",
    "display(df)"
   ]
  },
  {
   "cell_type": "code",
   "execution_count": 4,
   "metadata": {},
   "outputs": [],
   "source": [
    "from typing import Iterable\n",
    "\n",
    "def remove_punctuation(sentence: str) -> str:\n",
    "    # Use str.maketrans to create a translation table\n",
    "    translator = str.maketrans(\"\", \"\", string.punctuation)\n",
    "\n",
    "    # Use translate to remove punctuation\n",
    "    sentence_without_punctuation = sentence.translate(translator)\n",
    "\n",
    "    return sentence_without_punctuation\n",
    "\n",
    "def preprocess(sentences: Iterable[str]) -> pd.Series:\n",
    "    \"\"\"Applies preprocessing to the raw sentences\n",
    "\n",
    "    Args:\n",
    "        sentences (Iterable[str]): the sentences to preprocess\n",
    "\n",
    "    Returns:\n",
    "        pd.Series: the preprocessed sentences\n",
    "    \"\"\"\n",
    "    \n",
    "    return pd.Series([sent.split() for sent in sentences])"
   ]
  },
  {
   "cell_type": "code",
   "execution_count": 5,
   "metadata": {},
   "outputs": [
    {
     "data": {
      "text/html": [
       "<div>\n",
       "<style scoped>\n",
       "    .dataframe tbody tr th:only-of-type {\n",
       "        vertical-align: middle;\n",
       "    }\n",
       "\n",
       "    .dataframe tbody tr th {\n",
       "        vertical-align: top;\n",
       "    }\n",
       "\n",
       "    .dataframe thead th {\n",
       "        text-align: right;\n",
       "    }\n",
       "</style>\n",
       "<table border=\"1\" class=\"dataframe\">\n",
       "  <thead>\n",
       "    <tr style=\"text-align: right;\">\n",
       "      <th></th>\n",
       "      <th>sentences</th>\n",
       "      <th>tokenized_sentences</th>\n",
       "      <th>word_count</th>\n",
       "    </tr>\n",
       "  </thead>\n",
       "  <tbody>\n",
       "    <tr>\n",
       "      <th>0</th>\n",
       "      <td>Provem quelcom!</td>\n",
       "      <td>[Provem, quelcom!]</td>\n",
       "      <td>2</td>\n",
       "    </tr>\n",
       "    <tr>\n",
       "      <th>1</th>\n",
       "      <td>Provem alguna cosa!</td>\n",
       "      <td>[Provem, alguna, cosa!]</td>\n",
       "      <td>3</td>\n",
       "    </tr>\n",
       "    <tr>\n",
       "      <th>2</th>\n",
       "      <td>A vegades pot ser un noi estrany.</td>\n",
       "      <td>[A, vegades, pot, ser, un, noi, estrany.]</td>\n",
       "      <td>7</td>\n",
       "    </tr>\n",
       "    <tr>\n",
       "      <th>3</th>\n",
       "      <td>Aixo depen del contexte</td>\n",
       "      <td>[Aixo, depen, del, contexte]</td>\n",
       "      <td>4</td>\n",
       "    </tr>\n",
       "    <tr>\n",
       "      <th>4</th>\n",
       "      <td>Això depèn del context.</td>\n",
       "      <td>[Això, depèn, del, context.]</td>\n",
       "      <td>4</td>\n",
       "    </tr>\n",
       "  </tbody>\n",
       "</table>\n",
       "</div>"
      ],
      "text/plain": [
       "                           sentences  \\\n",
       "0                    Provem quelcom!   \n",
       "1                Provem alguna cosa!   \n",
       "2  A vegades pot ser un noi estrany.   \n",
       "3            Aixo depen del contexte   \n",
       "4            Això depèn del context.   \n",
       "\n",
       "                         tokenized_sentences  word_count  \n",
       "0                         [Provem, quelcom!]           2  \n",
       "1                    [Provem, alguna, cosa!]           3  \n",
       "2  [A, vegades, pot, ser, un, noi, estrany.]           7  \n",
       "3               [Aixo, depen, del, contexte]           4  \n",
       "4               [Això, depèn, del, context.]           4  "
      ]
     },
     "execution_count": 5,
     "metadata": {},
     "output_type": "execute_result"
    }
   ],
   "source": [
    "df[\"tokenized_sentences\"] = preprocess(df[\"sentences\"])\n",
    "df[\"word_count\"] = [len(tokens) for tokens in df[\"tokenized_sentences\"]]\n",
    "df.head()"
   ]
  },
  {
   "cell_type": "markdown",
   "metadata": {},
   "source": [
    "We will drop the sentences that have less than a certain number of words, as they may not be enough to create meaningful synthetic glosses."
   ]
  },
  {
   "cell_type": "code",
   "execution_count": 6,
   "metadata": {},
   "outputs": [
    {
     "name": "stderr",
     "output_type": "stream",
     "text": [
      "/var/folders/6l/9d78p88n5r55d3bft80dmb6c0000gn/T/ipykernel_84505/3336956861.py:3: SettingWithCopyWarning: \n",
      "A value is trying to be set on a copy of a slice from a DataFrame.\n",
      "Try using .loc[row_indexer,col_indexer] = value instead\n",
      "\n",
      "See the caveats in the documentation: https://pandas.pydata.org/pandas-docs/stable/user_guide/indexing.html#returning-a-view-versus-a-copy\n",
      "  purged_df[\"tokenized_sentences\"] = purged_df[\"tokenized_sentences\"].apply(tuple)\n"
     ]
    },
    {
     "data": {
      "text/html": [
       "<div>\n",
       "<style scoped>\n",
       "    .dataframe tbody tr th:only-of-type {\n",
       "        vertical-align: middle;\n",
       "    }\n",
       "\n",
       "    .dataframe tbody tr th {\n",
       "        vertical-align: top;\n",
       "    }\n",
       "\n",
       "    .dataframe thead th {\n",
       "        text-align: right;\n",
       "    }\n",
       "</style>\n",
       "<table border=\"1\" class=\"dataframe\">\n",
       "  <thead>\n",
       "    <tr style=\"text-align: right;\">\n",
       "      <th></th>\n",
       "      <th>sentences</th>\n",
       "      <th>tokenized_sentences</th>\n",
       "      <th>word_count</th>\n",
       "    </tr>\n",
       "  </thead>\n",
       "  <tbody>\n",
       "    <tr>\n",
       "      <th>1</th>\n",
       "      <td>Provem alguna cosa!</td>\n",
       "      <td>[Provem, alguna, cosa!]</td>\n",
       "      <td>3</td>\n",
       "    </tr>\n",
       "    <tr>\n",
       "      <th>2</th>\n",
       "      <td>A vegades pot ser un noi estrany.</td>\n",
       "      <td>[A, vegades, pot, ser, un, noi, estrany.]</td>\n",
       "      <td>7</td>\n",
       "    </tr>\n",
       "    <tr>\n",
       "      <th>3</th>\n",
       "      <td>Aixo depen del contexte</td>\n",
       "      <td>[Aixo, depen, del, contexte]</td>\n",
       "      <td>4</td>\n",
       "    </tr>\n",
       "    <tr>\n",
       "      <th>4</th>\n",
       "      <td>Això depèn del context.</td>\n",
       "      <td>[Això, depèn, del, context.]</td>\n",
       "      <td>4</td>\n",
       "    </tr>\n",
       "    <tr>\n",
       "      <th>5</th>\n",
       "      <td>Això seria una cosa que caldria programar</td>\n",
       "      <td>[Això, seria, una, cosa, que, caldria, programar]</td>\n",
       "      <td>7</td>\n",
       "    </tr>\n",
       "    <tr>\n",
       "      <th>...</th>\n",
       "      <td>...</td>\n",
       "      <td>...</td>\n",
       "      <td>...</td>\n",
       "    </tr>\n",
       "    <tr>\n",
       "      <th>2853</th>\n",
       "      <td>Pots esborrar aquesta foto?</td>\n",
       "      <td>[Pots, esborrar, aquesta, foto?]</td>\n",
       "      <td>4</td>\n",
       "    </tr>\n",
       "    <tr>\n",
       "      <th>2854</th>\n",
       "      <td>Li va cantar una canço.</td>\n",
       "      <td>[Li, va, cantar, una, canço.]</td>\n",
       "      <td>5</td>\n",
       "    </tr>\n",
       "    <tr>\n",
       "      <th>2855</th>\n",
       "      <td>En algunes llunes d'aquell gegant de gas hi ha...</td>\n",
       "      <td>[En, algunes, llunes, d'aquell, gegant, de, ga...</td>\n",
       "      <td>14</td>\n",
       "    </tr>\n",
       "    <tr>\n",
       "      <th>2856</th>\n",
       "      <td>Quantes preguntes has contestat?</td>\n",
       "      <td>[Quantes, preguntes, has, contestat?]</td>\n",
       "      <td>4</td>\n",
       "    </tr>\n",
       "    <tr>\n",
       "      <th>2857</th>\n",
       "      <td>Plou a bots i barrals.</td>\n",
       "      <td>[Plou, a, bots, i, barrals.]</td>\n",
       "      <td>5</td>\n",
       "    </tr>\n",
       "  </tbody>\n",
       "</table>\n",
       "<p>2678 rows × 3 columns</p>\n",
       "</div>"
      ],
      "text/plain": [
       "                                              sentences  \\\n",
       "1                                   Provem alguna cosa!   \n",
       "2                     A vegades pot ser un noi estrany.   \n",
       "3                               Aixo depen del contexte   \n",
       "4                               Això depèn del context.   \n",
       "5             Això seria una cosa que caldria programar   \n",
       "...                                                 ...   \n",
       "2853                        Pots esborrar aquesta foto?   \n",
       "2854                            Li va cantar una canço.   \n",
       "2855  En algunes llunes d'aquell gegant de gas hi ha...   \n",
       "2856                   Quantes preguntes has contestat?   \n",
       "2857                             Plou a bots i barrals.   \n",
       "\n",
       "                                    tokenized_sentences  word_count  \n",
       "1                               [Provem, alguna, cosa!]           3  \n",
       "2             [A, vegades, pot, ser, un, noi, estrany.]           7  \n",
       "3                          [Aixo, depen, del, contexte]           4  \n",
       "4                          [Això, depèn, del, context.]           4  \n",
       "5     [Això, seria, una, cosa, que, caldria, programar]           7  \n",
       "...                                                 ...         ...  \n",
       "2853                   [Pots, esborrar, aquesta, foto?]           4  \n",
       "2854                      [Li, va, cantar, una, canço.]           5  \n",
       "2855  [En, algunes, llunes, d'aquell, gegant, de, ga...          14  \n",
       "2856              [Quantes, preguntes, has, contestat?]           4  \n",
       "2857                       [Plou, a, bots, i, barrals.]           5  \n",
       "\n",
       "[2678 rows x 3 columns]"
      ]
     },
     "metadata": {},
     "output_type": "display_data"
    }
   ],
   "source": [
    "MIN_WORDS = 3\n",
    "purged_df = df[df[\"word_count\"] >= MIN_WORDS]\n",
    "purged_df[\"tokenized_sentences\"] = purged_df[\"tokenized_sentences\"].apply(tuple)\n",
    "purged_df = purged_df.drop_duplicates()\n",
    "purged_df[\"tokenized_sentences\"] = purged_df[\"tokenized_sentences\"].apply(list)\n",
    "#purged_df = purged_df.drop(columns=[\"word_count\"])\n",
    "display(purged_df)"
   ]
  },
  {
   "cell_type": "markdown",
   "metadata": {},
   "source": [
    "Let's see which words are the most frequent"
   ]
  },
  {
   "cell_type": "code",
   "execution_count": 7,
   "metadata": {},
   "outputs": [
    {
     "data": {
      "text/html": [
       "<div>\n",
       "<style scoped>\n",
       "    .dataframe tbody tr th:only-of-type {\n",
       "        vertical-align: middle;\n",
       "    }\n",
       "\n",
       "    .dataframe tbody tr th {\n",
       "        vertical-align: top;\n",
       "    }\n",
       "\n",
       "    .dataframe thead th {\n",
       "        text-align: right;\n",
       "    }\n",
       "</style>\n",
       "<table border=\"1\" class=\"dataframe\">\n",
       "  <thead>\n",
       "    <tr style=\"text-align: right;\">\n",
       "      <th></th>\n",
       "      <th>Word</th>\n",
       "      <th>Count</th>\n",
       "    </tr>\n",
       "  </thead>\n",
       "  <tbody>\n",
       "    <tr>\n",
       "      <th>81</th>\n",
       "      <td>la</td>\n",
       "      <td>525</td>\n",
       "    </tr>\n",
       "    <tr>\n",
       "      <th>63</th>\n",
       "      <td>a</td>\n",
       "      <td>499</td>\n",
       "    </tr>\n",
       "    <tr>\n",
       "      <th>135</th>\n",
       "      <td>de</td>\n",
       "      <td>498</td>\n",
       "    </tr>\n",
       "    <tr>\n",
       "      <th>20</th>\n",
       "      <td>que</td>\n",
       "      <td>448</td>\n",
       "    </tr>\n",
       "    <tr>\n",
       "      <th>29</th>\n",
       "      <td>el</td>\n",
       "      <td>413</td>\n",
       "    </tr>\n",
       "    <tr>\n",
       "      <th>36</th>\n",
       "      <td>és</td>\n",
       "      <td>348</td>\n",
       "    </tr>\n",
       "    <tr>\n",
       "      <th>175</th>\n",
       "      <td>va</td>\n",
       "      <td>296</td>\n",
       "    </tr>\n",
       "    <tr>\n",
       "      <th>113</th>\n",
       "      <td>no</td>\n",
       "      <td>269</td>\n",
       "    </tr>\n",
       "    <tr>\n",
       "      <th>7</th>\n",
       "      <td>un</td>\n",
       "      <td>260</td>\n",
       "    </tr>\n",
       "    <tr>\n",
       "      <th>43</th>\n",
       "      <td>No</td>\n",
       "      <td>216</td>\n",
       "    </tr>\n",
       "  </tbody>\n",
       "</table>\n",
       "</div>"
      ],
      "text/plain": [
       "    Word  Count\n",
       "81    la    525\n",
       "63     a    499\n",
       "135   de    498\n",
       "20   que    448\n",
       "29    el    413\n",
       "36    és    348\n",
       "175   va    296\n",
       "113   no    269\n",
       "7     un    260\n",
       "43    No    216"
      ]
     },
     "execution_count": 7,
     "metadata": {},
     "output_type": "execute_result"
    }
   ],
   "source": [
    "#First we want to obtain all the words in a list\n",
    "all_sentences = \" \".join(purged_df[\"sentences\"])\n",
    "all_words = all_sentences.split()\n",
    "\n",
    "#Create a counter object\n",
    "word_counter = Counter(all_words)\n",
    "\n",
    "#Convert it into a dataframe\n",
    "word_counts_df = pd.DataFrame(list(word_counter.items()), columns=[\"Word\", \"Count\"])\n",
    "word_counts_df = word_counts_df.sort_values(by='Count', ascending=False)\n",
    "\n",
    "#Display the results\n",
    "word_counts_df.head(10)"
   ]
  },
  {
   "cell_type": "markdown",
   "metadata": {},
   "source": [
    "We can compute the average sentence length and the variance"
   ]
  },
  {
   "cell_type": "code",
   "execution_count": 8,
   "metadata": {},
   "outputs": [
    {
     "name": "stdout",
     "output_type": "stream",
     "text": [
      "The average sentence length is 7.24\n",
      "The variance of the sentence length is 16.0\n"
     ]
    }
   ],
   "source": [
    "avg_sent_len = np.mean([len(sent) for sent in purged_df[\"tokenized_sentences\"]])\n",
    "print(f\"The average sentence length is {avg_sent_len:.3}\")\n",
    "\n",
    "var_sent_len = np.var([len(sent) for sent in purged_df[\"tokenized_sentences\"]])\n",
    "print(f\"The variance of the sentence length is {var_sent_len:.3}\")\n"
   ]
  },
  {
   "cell_type": "code",
   "execution_count": 9,
   "metadata": {},
   "outputs": [
    {
     "data": {
      "text/html": [
       "<div>\n",
       "<style scoped>\n",
       "    .dataframe tbody tr th:only-of-type {\n",
       "        vertical-align: middle;\n",
       "    }\n",
       "\n",
       "    .dataframe tbody tr th {\n",
       "        vertical-align: top;\n",
       "    }\n",
       "\n",
       "    .dataframe thead th {\n",
       "        text-align: right;\n",
       "    }\n",
       "</style>\n",
       "<table border=\"1\" class=\"dataframe\">\n",
       "  <thead>\n",
       "    <tr style=\"text-align: right;\">\n",
       "      <th></th>\n",
       "      <th>sentences</th>\n",
       "      <th>tokenized_sentences</th>\n",
       "      <th>word_count</th>\n",
       "    </tr>\n",
       "  </thead>\n",
       "  <tbody>\n",
       "    <tr>\n",
       "      <th>count</th>\n",
       "      <td>2678</td>\n",
       "      <td>2678</td>\n",
       "      <td>2678.000000</td>\n",
       "    </tr>\n",
       "    <tr>\n",
       "      <th>unique</th>\n",
       "      <td>2678</td>\n",
       "      <td>2678</td>\n",
       "      <td>NaN</td>\n",
       "    </tr>\n",
       "    <tr>\n",
       "      <th>top</th>\n",
       "      <td>Provem alguna cosa!</td>\n",
       "      <td>[Provem, alguna, cosa!]</td>\n",
       "      <td>NaN</td>\n",
       "    </tr>\n",
       "    <tr>\n",
       "      <th>freq</th>\n",
       "      <td>1</td>\n",
       "      <td>1</td>\n",
       "      <td>NaN</td>\n",
       "    </tr>\n",
       "    <tr>\n",
       "      <th>mean</th>\n",
       "      <td>NaN</td>\n",
       "      <td>NaN</td>\n",
       "      <td>7.240851</td>\n",
       "    </tr>\n",
       "    <tr>\n",
       "      <th>std</th>\n",
       "      <td>NaN</td>\n",
       "      <td>NaN</td>\n",
       "      <td>3.998396</td>\n",
       "    </tr>\n",
       "    <tr>\n",
       "      <th>min</th>\n",
       "      <td>NaN</td>\n",
       "      <td>NaN</td>\n",
       "      <td>3.000000</td>\n",
       "    </tr>\n",
       "    <tr>\n",
       "      <th>25%</th>\n",
       "      <td>NaN</td>\n",
       "      <td>NaN</td>\n",
       "      <td>5.000000</td>\n",
       "    </tr>\n",
       "    <tr>\n",
       "      <th>50%</th>\n",
       "      <td>NaN</td>\n",
       "      <td>NaN</td>\n",
       "      <td>7.000000</td>\n",
       "    </tr>\n",
       "    <tr>\n",
       "      <th>75%</th>\n",
       "      <td>NaN</td>\n",
       "      <td>NaN</td>\n",
       "      <td>9.000000</td>\n",
       "    </tr>\n",
       "    <tr>\n",
       "      <th>max</th>\n",
       "      <td>NaN</td>\n",
       "      <td>NaN</td>\n",
       "      <td>65.000000</td>\n",
       "    </tr>\n",
       "  </tbody>\n",
       "</table>\n",
       "</div>"
      ],
      "text/plain": [
       "                  sentences      tokenized_sentences   word_count\n",
       "count                  2678                     2678  2678.000000\n",
       "unique                 2678                     2678          NaN\n",
       "top     Provem alguna cosa!  [Provem, alguna, cosa!]          NaN\n",
       "freq                      1                        1          NaN\n",
       "mean                    NaN                      NaN     7.240851\n",
       "std                     NaN                      NaN     3.998396\n",
       "min                     NaN                      NaN     3.000000\n",
       "25%                     NaN                      NaN     5.000000\n",
       "50%                     NaN                      NaN     7.000000\n",
       "75%                     NaN                      NaN     9.000000\n",
       "max                     NaN                      NaN    65.000000"
      ]
     },
     "execution_count": 9,
     "metadata": {},
     "output_type": "execute_result"
    }
   ],
   "source": [
    "purged_df.describe(include=\"all\")"
   ]
  },
  {
   "cell_type": "code",
   "execution_count": 10,
   "metadata": {},
   "outputs": [
    {
     "data": {
      "text/plain": [
       "<Axes: >"
      ]
     },
     "execution_count": 10,
     "metadata": {},
     "output_type": "execute_result"
    },
    {
     "data": {
      "image/png": "[encoded data removed]",
      "text/plain": [
       "<Figure size 640x480 with 1 Axes>"
      ]
     },
     "metadata": {},
     "output_type": "display_data"
    }
   ],
   "source": [
    "purged_df.boxplot(\"word_count\")"
   ]
  },
  {
   "cell_type": "code",
   "execution_count": 11,
   "metadata": {},
   "outputs": [
    {
     "data": {
      "text/html": [
       "<div>\n",
       "<style scoped>\n",
       "    .dataframe tbody tr th:only-of-type {\n",
       "        vertical-align: middle;\n",
       "    }\n",
       "\n",
       "    .dataframe tbody tr th {\n",
       "        vertical-align: top;\n",
       "    }\n",
       "\n",
       "    .dataframe thead th {\n",
       "        text-align: right;\n",
       "    }\n",
       "</style>\n",
       "<table border=\"1\" class=\"dataframe\">\n",
       "  <thead>\n",
       "    <tr style=\"text-align: right;\">\n",
       "      <th></th>\n",
       "      <th>sentences</th>\n",
       "      <th>tokenized_sentences</th>\n",
       "      <th>word_count</th>\n",
       "    </tr>\n",
       "  </thead>\n",
       "  <tbody>\n",
       "    <tr>\n",
       "      <th>663</th>\n",
       "      <td>I encara que ja no estigui entre nosaltres, sé...</td>\n",
       "      <td>[I, encara, que, ja, no, estigui, entre, nosal...</td>\n",
       "      <td>65</td>\n",
       "    </tr>\n",
       "    <tr>\n",
       "      <th>2655</th>\n",
       "      <td>És insultant que us penseu que les persones LG...</td>\n",
       "      <td>[És, insultant, que, us, penseu, que, les, per...</td>\n",
       "      <td>50</td>\n",
       "    </tr>\n",
       "    <tr>\n",
       "      <th>770</th>\n",
       "      <td>Si hi ha algú allà fora que encara dubta de Am...</td>\n",
       "      <td>[Si, hi, ha, algú, allà, fora, que, encara, du...</td>\n",
       "      <td>49</td>\n",
       "    </tr>\n",
       "    <tr>\n",
       "      <th>2182</th>\n",
       "      <td>Aquest és el noi que va jugar amb la joguina q...</td>\n",
       "      <td>[Aquest, és, el, noi, que, va, jugar, amb, la,...</td>\n",
       "      <td>46</td>\n",
       "    </tr>\n",
       "    <tr>\n",
       "      <th>664</th>\n",
       "      <td>Un astut caçador, Cristóbal Colón, una vegada ...</td>\n",
       "      <td>[Un, astut, caçador,, Cristóbal, Colón,, una, ...</td>\n",
       "      <td>45</td>\n",
       "    </tr>\n",
       "  </tbody>\n",
       "</table>\n",
       "</div>"
      ],
      "text/plain": [
       "                                              sentences  \\\n",
       "663   I encara que ja no estigui entre nosaltres, sé...   \n",
       "2655  És insultant que us penseu que les persones LG...   \n",
       "770   Si hi ha algú allà fora que encara dubta de Am...   \n",
       "2182  Aquest és el noi que va jugar amb la joguina q...   \n",
       "664   Un astut caçador, Cristóbal Colón, una vegada ...   \n",
       "\n",
       "                                    tokenized_sentences  word_count  \n",
       "663   [I, encara, que, ja, no, estigui, entre, nosal...          65  \n",
       "2655  [És, insultant, que, us, penseu, que, les, per...          50  \n",
       "770   [Si, hi, ha, algú, allà, fora, que, encara, du...          49  \n",
       "2182  [Aquest, és, el, noi, que, va, jugar, amb, la,...          46  \n",
       "664   [Un, astut, caçador,, Cristóbal, Colón,, una, ...          45  "
      ]
     },
     "execution_count": 11,
     "metadata": {},
     "output_type": "execute_result"
    }
   ],
   "source": [
    "purged_df.sort_values(by=\"word_count\", ascending=False).head()"
   ]
  },
  {
   "cell_type": "code",
   "execution_count": 12,
   "metadata": {},
   "outputs": [
    {
     "name": "stderr",
     "output_type": "stream",
     "text": [
      "/Users/lukachabaud/Desktop/TFG/Project/.venv/lib/python3.11/site-packages/tqdm/auto.py:21: TqdmWarning: IProgress not found. Please update jupyter and ipywidgets. See https://ipywidgets.readthedocs.io/en/stable/user_install.html\n",
      "  from .autonotebook import tqdm as notebook_tqdm\n"
     ]
    },
    {
     "name": "stdout",
     "output_type": "stream",
     "text": [
      "[('Tinc', 'VERB'), ('una', 'NUM'), ('casa', 'NOUN')]\n"
     ]
    }
   ],
   "source": [
    "nlp = spacy.load(\"ca_core_news_trf\")\n",
    "doc = nlp(\"Tinc una casa\")\n",
    "print([(w.text, w.pos_) for w in doc])"
   ]
  },
  {
   "cell_type": "code",
   "execution_count": 13,
   "metadata": {},
   "outputs": [
    {
     "name": "stdout",
     "output_type": "stream",
     "text": [
      "[('Tinc', 'VERB'), ('una', 'DET'), ('casa', 'NOUN'), ('que', 'PRON'), ('no', 'ADV'), ('té', 'VERB'), ('piscina', 'NOUN'), ('.', 'PUNCT')]\n"
     ]
    }
   ],
   "source": [
    "print([(w.text, w.pos_) for w in nlp(\"Tinc una casa que no té piscina.\")])"
   ]
  },
  {
   "cell_type": "code",
   "execution_count": 14,
   "metadata": {},
   "outputs": [
    {
     "name": "stdout",
     "output_type": "stream",
     "text": [
      "[('Tinc', 'VERB'), ('casa', 'NOUN'), ('no', 'ADV'), ('té', 'VERB'), ('piscina', 'NOUN')]\n",
      "[('Tinc', 'VERB'), ('casa', 'NOUN'), ('no', 'ADV'), ('té', 'VERB'), ('piscina', 'NOUN')]\n",
      "[('casa', 'NOUN'), ('piscina', 'NOUN'), ('no', 'ADV'), ('té', 'VERB'), ('Tinc', 'VERB')]\n"
     ]
    },
    {
     "data": {
      "text/plain": [
       "'CASA PISCINA NO TENIR TENIR'"
      ]
     },
     "execution_count": 14,
     "metadata": {},
     "output_type": "execute_result"
    }
   ],
   "source": [
    "from synthesize_glosses import generate_synthetic_glosses\n",
    "\n",
    "generate_synthetic_glosses(nlp, \"Tinc una casa que no té piscina.\")"
   ]
  },
  {
   "cell_type": "code",
   "execution_count": null,
   "metadata": {},
   "outputs": [],
   "source": []
  }
 ],
 "metadata": {
  "kernelspec": {
   "display_name": ".venv",
   "language": "python",
   "name": "python3"
  },
  "language_info": {
   "codemirror_mode": {
    "name": "ipython",
    "version": 3
   },
   "file_extension": ".py",
   "mimetype": "text/x-python",
   "name": "python",
   "nbconvert_exporter": "python",
   "pygments_lexer": "ipython3",
   "version": "3.11.6"
  }
 },
 "nbformat": 4,
 "nbformat_minor": 2
}
