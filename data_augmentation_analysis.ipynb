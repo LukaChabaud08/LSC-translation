{
 "cells": [
  {
   "cell_type": "code",
   "execution_count": 1,
   "metadata": {},
   "outputs": [],
   "source": [
    "import pandas as pd\n",
    "import os"
   ]
  },
  {
   "cell_type": "code",
   "execution_count": 19,
   "metadata": {},
   "outputs": [],
   "source": [
    "def get_wordset(filepath:str) -> set[str]:\n",
    "    with open(filepath, \"r\") as fp:\n",
    "        lines = fp.readlines()\n",
    "        \n",
    "        words = []\n",
    "        for line in lines:\n",
    "            for word in line.split():\n",
    "                words.append(word)\n",
    "    \n",
    "    print(len(words))\n",
    "    return set(words)"
   ]
  },
  {
   "cell_type": "code",
   "execution_count": 21,
   "metadata": {},
   "outputs": [],
   "source": [
    "def count_words(filepath:str):\n",
    "    with open(filepath, \"r\") as fp:\n",
    "        lines = fp.readlines()\n",
    "        \n",
    "        words = []\n",
    "        for line in lines:\n",
    "            for word in line.split():\n",
    "                words.append(word)\n",
    "    \n",
    "    print(len(words))\n",
    "    \n",
    "    return len(words)"
   ]
  },
  {
   "cell_type": "code",
   "execution_count": 26,
   "metadata": {},
   "outputs": [
    {
     "name": "stdout",
     "output_type": "stream",
     "text": [
      "3783\n",
      "397\n",
      "376\n"
     ]
    },
    {
     "data": {
      "text/plain": [
       "394"
      ]
     },
     "execution_count": 26,
     "metadata": {},
     "output_type": "execute_result"
    }
   ],
   "source": [
    "words_train = get_wordset(\"data/meteo.cat-filtered.cat.subword.train.desubword\")\n",
    "words_dev = get_wordset(\"data/meteo.cat-filtered.cat.subword.dev.desubword\")\n",
    "words_test = get_wordset(\"data/meteo.cat-filtered.cat.subword.test.desubword\")\n",
    "\n",
    "len(words_test.union(words_dev.union(words_train)))"
   ]
  },
  {
   "cell_type": "code",
   "execution_count": 7,
   "metadata": {},
   "outputs": [],
   "source": [
    "def get_coverage(set1:set, set2:set) -> float:\n",
    "    return len(set1.intersection(set2))/len(set2)*100"
   ]
  },
  {
   "cell_type": "code",
   "execution_count": 20,
   "metadata": {},
   "outputs": [
    {
     "name": "stdout",
     "output_type": "stream",
     "text": [
      "2744\n",
      "296\n",
      "268\n",
      "19455\n",
      "8666\n"
     ]
    }
   ],
   "source": [
    "training_glosses = get_wordset(\"data/meteo.lsc-filtered.lsc.subword.train.desubword\")\n",
    "dev_glosses = get_wordset(\"data/meteo.lsc-filtered.lsc.subword.dev.desubword\")\n",
    "test_glosses = get_wordset(\"data/meteo.lsc-filtered.lsc.subword.test.desubword\")\n",
    "total_glosses = training_glosses.union(dev_glosses.union(test_glosses))\n",
    "\n",
    "ancora_glosses = get_wordset(\"data/augmented_ancora/augmented_ancora.lsc\")\n",
    "tatoeba_glosses = get_wordset(\"data/augmented_tatoeba/augmented.lsc\")"
   ]
  },
  {
   "cell_type": "code",
   "execution_count": 18,
   "metadata": {},
   "outputs": [
    {
     "data": {
      "text/plain": [
       "286"
      ]
     },
     "execution_count": 18,
     "metadata": {},
     "output_type": "execute_result"
    }
   ],
   "source": [
    "len(total_glosses)"
   ]
  },
  {
   "cell_type": "code",
   "execution_count": 14,
   "metadata": {},
   "outputs": [
    {
     "name": "stdout",
     "output_type": "stream",
     "text": [
      "------------------------------Coverages of the training glosses------------------------------\n",
      "Coverage on the train set glosses: 100.00\n",
      "Coverage on the dev set glosses: 87.80\n",
      "Coverage on the test set glosses: 92.45\n",
      "Coverage on the total of glosses: 93.01\n",
      "\n",
      "------------------------------Coverages of the dev glosses------------------------------\n",
      "Coverage on the train set glosses: 40.60\n",
      "Coverage on the dev set glosses: 100.00\n",
      "Coverage on the test set glosses: 61.32\n",
      "Coverage on the total of glosses: 43.01\n",
      "\n",
      "------------------------------Coverages of the test glosses------------------------------\n",
      "Coverage on the train set glosses: 36.84\n",
      "Coverage on the dev set glosses: 52.85\n",
      "Coverage on the test set glosses: 100.00\n",
      "Coverage on the total of glosses: 37.06\n",
      "\n",
      "------------------------------Coverages of the Tatoeba glosses------------------------------\n",
      "Coverage on the train set glosses: 32.71\n",
      "Coverage on the dev set glosses: 41.46\n",
      "Coverage on the test set glosses: 38.68\n",
      "\n",
      "------------------------------Coverages of the Tatoeba glosses + training glosses------------------------------\n",
      "Coverage on the train set glosses: 100.00\n",
      "Coverage on the dev set glosses: 89.43\n",
      "Coverage on the test set glosses: 93.40\n",
      "\n",
      "------------------------------Coverages of the AnCora glosses------------------------------\n",
      "Coverage on the train set glosses: 39.85\n",
      "Coverage on the dev set glosses: 52.85\n",
      "Coverage on the test set glosses: 47.17\n",
      "\n",
      "------------------------------Coverages of the AnCora glosses + training glosses------------------------------\n",
      "Coverage on the train set glosses: 100.00\n",
      "Coverage on the dev set glosses: 93.50\n",
      "Coverage on the test set glosses: 96.23\n"
     ]
    }
   ],
   "source": [
    "print(\"---\"*10 + \"Coverages of the training glosses\" + \"---\"*10)\n",
    "print(f\"Coverage on the train set glosses: {get_coverage(training_glosses, training_glosses):.2f}\")\n",
    "print(f\"Coverage on the dev set glosses: {get_coverage(training_glosses, dev_glosses):.2f}\")\n",
    "print(f\"Coverage on the test set glosses: {get_coverage(training_glosses, test_glosses):.2f}\")\n",
    "print(f\"Coverage on the total of glosses: {get_coverage(training_glosses, total_glosses):.2f}\")\n",
    "print()\n",
    "\n",
    "print(\"---\"*10 + \"Coverages of the dev glosses\" + \"---\"*10)\n",
    "print(f\"Coverage on the train set glosses: {get_coverage(dev_glosses, training_glosses):.2f}\")\n",
    "print(f\"Coverage on the dev set glosses: {get_coverage(dev_glosses, dev_glosses):.2f}\")\n",
    "print(f\"Coverage on the test set glosses: {get_coverage(dev_glosses, test_glosses):.2f}\")\n",
    "print(f\"Coverage on the total of glosses: {get_coverage(dev_glosses, total_glosses):.2f}\")\n",
    "print()\n",
    "\n",
    "print(\"---\"*10 + \"Coverages of the test glosses\" + \"---\"*10)\n",
    "print(f\"Coverage on the train set glosses: {get_coverage(test_glosses, training_glosses):.2f}\")\n",
    "print(f\"Coverage on the dev set glosses: {get_coverage(test_glosses, dev_glosses):.2f}\")\n",
    "print(f\"Coverage on the test set glosses: {get_coverage(test_glosses, test_glosses):.2f}\")\n",
    "print(f\"Coverage on the total of glosses: {get_coverage(test_glosses, total_glosses):.2f}\")\n",
    "print()\n",
    "\n",
    "print(\"---\"*10 + \"Coverages of the Tatoeba glosses\" + \"---\"*10)\n",
    "print(f\"Coverage on the train set glosses: {get_coverage(tatoeba_glosses, training_glosses):.2f}\")\n",
    "print(f\"Coverage on the dev set glosses: {get_coverage(tatoeba_glosses, dev_glosses):.2f}\")\n",
    "print(f\"Coverage on the test set glosses: {get_coverage(tatoeba_glosses, test_glosses):.2f}\")\n",
    "print()\n",
    "\n",
    "print(\"---\"*10 + \"Coverages of the Tatoeba glosses + training glosses\" + \"---\"*10)\n",
    "tatoeba_train_glosses = tatoeba_glosses.union(training_glosses)\n",
    "print(f\"Coverage on the train set glosses: {get_coverage(tatoeba_train_glosses, training_glosses):.2f}\")\n",
    "print(f\"Coverage on the dev set glosses: {get_coverage(tatoeba_train_glosses, dev_glosses):.2f}\")\n",
    "print(f\"Coverage on the test set glosses: {get_coverage(tatoeba_train_glosses, test_glosses):.2f}\")\n",
    "print()\n",
    "\n",
    "print(\"---\"*10 + \"Coverages of the AnCora glosses\" + \"---\"*10)\n",
    "print(f\"Coverage on the train set glosses: {get_coverage(ancora_glosses, training_glosses):.2f}\")\n",
    "print(f\"Coverage on the dev set glosses: {get_coverage(ancora_glosses, dev_glosses):.2f}\")\n",
    "print(f\"Coverage on the test set glosses: {get_coverage(ancora_glosses, test_glosses):.2f}\")\n",
    "print()\n",
    "\n",
    "print(\"---\"*10 + \"Coverages of the AnCora glosses + training glosses\" + \"---\"*10)\n",
    "ancora_train_glosses = ancora_glosses.union(training_glosses)\n",
    "print(f\"Coverage on the train set glosses: {get_coverage(ancora_train_glosses, training_glosses):.2f}\")\n",
    "print(f\"Coverage on the dev set glosses: {get_coverage(ancora_train_glosses, dev_glosses):.2f}\")\n",
    "print(f\"Coverage on the test set glosses: {get_coverage(ancora_train_glosses, test_glosses):.2f}\")"
   ]
  }
 ],
 "metadata": {
  "kernelspec": {
   "display_name": ".venv",
   "language": "python",
   "name": "python3"
  },
  "language_info": {
   "codemirror_mode": {
    "name": "ipython",
    "version": 3
   },
   "file_extension": ".py",
   "mimetype": "text/x-python",
   "name": "python",
   "nbconvert_exporter": "python",
   "pygments_lexer": "ipython3",
   "version": "3.12.2"
  }
 },
 "nbformat": 4,
 "nbformat_minor": 2
}
