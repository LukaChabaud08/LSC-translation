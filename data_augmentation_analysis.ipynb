{
 "cells": [
  {
   "cell_type": "code",
   "execution_count": 1,
   "metadata": {},
   "outputs": [],
   "source": [
    "import pandas as pd\n",
    "import os"
   ]
  },
  {
   "cell_type": "code",
   "execution_count": 2,
   "metadata": {},
   "outputs": [],
   "source": [
    "def get_wordset(filepath:str) -> set[str]:\n",
    "    with open(filepath, \"r\") as fp:\n",
    "        lines = fp.readlines()\n",
    "        \n",
    "        words = []\n",
    "        for line in lines:\n",
    "            for word in line.split():\n",
    "                words.append(word)\n",
    "    \n",
    "    print(len((set(words))))\n",
    "    return set(words)"
   ]
  },
  {
   "cell_type": "code",
   "execution_count": 3,
   "metadata": {},
   "outputs": [],
   "source": [
    "def count_words(filepath:str):\n",
    "    with open(filepath, \"r\") as fp:\n",
    "        lines = fp.readlines()\n",
    "        \n",
    "        words = []\n",
    "        for line in lines:\n",
    "            for word in line.split():\n",
    "                words.append(word)\n",
    "    \n",
    "    print(len(words))\n",
    "    \n",
    "    return len(words)"
   ]
  },
  {
   "cell_type": "code",
   "execution_count": 14,
   "metadata": {},
   "outputs": [
    {
     "name": "stdout",
     "output_type": "stream",
     "text": [
      "374\n",
      "143\n",
      "136\n"
     ]
    },
    {
     "data": {
      "text/plain": [
       "394"
      ]
     },
     "execution_count": 14,
     "metadata": {},
     "output_type": "execute_result"
    }
   ],
   "source": [
    "words_train = get_wordset(\"data/meteo.cat-filtered.cat.subword.train.desubword\")\n",
    "words_dev = get_wordset(\"data/meteo.cat-filtered.cat.subword.dev.desubword\")\n",
    "words_test = get_wordset(\"data/meteo.cat-filtered.cat.subword.test.desubword\")\n",
    "\n",
    "len(words_test.union(words_dev.union(words_train)))"
   ]
  },
  {
   "cell_type": "code",
   "execution_count": 6,
   "metadata": {},
   "outputs": [],
   "source": [
    "def get_coverage(set1:set, set2:set) -> float:\n",
    "    return len(set1.intersection(set2))/len(set2)*100"
   ]
  },
  {
   "cell_type": "code",
   "execution_count": 4,
   "metadata": {},
   "outputs": [
    {
     "name": "stdout",
     "output_type": "stream",
     "text": [
      "266\n",
      "123\n",
      "106\n",
      "4437\n",
      "2519\n",
      "242\n"
     ]
    }
   ],
   "source": [
    "training_glosses = get_wordset(\"data/meteo.lsc-filtered.lsc.subword.train.desubword\")\n",
    "dev_glosses = get_wordset(\"data/meteo.lsc-filtered.lsc.subword.dev.desubword\")\n",
    "test_glosses = get_wordset(\"data/meteo.lsc-filtered.lsc.subword.test.desubword\")\n",
    "total_glosses = training_glosses.union(dev_glosses.union(test_glosses))\n",
    "\n",
    "ancora_general_glosses = get_wordset(\"data/augmented_general_ancora/augmented_general_ancora.lsc\")\n",
    "tatoeba_general_glosses = get_wordset(\"data/augmented_general_tatoeba/augmented_general_tatoeba.lsc\")\n",
    "meteocat_general_glosses = get_wordset(\"data/augmented_general_meteocat/augmented_general_meteocat.lsc\") # Change it with the actual glosses"
   ]
  },
  {
   "cell_type": "code",
   "execution_count": 9,
   "metadata": {},
   "outputs": [
    {
     "data": {
      "text/plain": [
       "286"
      ]
     },
     "execution_count": 9,
     "metadata": {},
     "output_type": "execute_result"
    }
   ],
   "source": [
    "len(total_glosses)"
   ]
  },
  {
   "cell_type": "code",
   "execution_count": 7,
   "metadata": {},
   "outputs": [
    {
     "name": "stdout",
     "output_type": "stream",
     "text": [
      "------------------------------Coverages of the training glosses------------------------------\n",
      "Coverage on the train set glosses: 100.00\n",
      "Coverage on the dev set glosses: 87.80\n",
      "Coverage on the test set glosses: 92.45\n",
      "Coverage on the total of glosses: 93.01\n",
      "\n",
      "------------------------------Coverages of the dev glosses------------------------------\n",
      "Coverage on the train set glosses: 40.60\n",
      "Coverage on the dev set glosses: 100.00\n",
      "Coverage on the test set glosses: 61.32\n",
      "Coverage on the total of glosses: 43.01\n",
      "\n",
      "------------------------------Coverages of the test glosses------------------------------\n",
      "Coverage on the train set glosses: 36.84\n",
      "Coverage on the dev set glosses: 52.85\n",
      "Coverage on the test set glosses: 100.00\n",
      "Coverage on the total of glosses: 37.06\n",
      "\n",
      "------------------------------Coverages of the Tatoeba glosses------------------------------\n",
      "Coverage on the train set glosses: 31.95\n",
      "Coverage on the dev set glosses: 40.65\n",
      "Coverage on the test set glosses: 36.79\n",
      "\n",
      "------------------------------Coverages of the Tatoeba glosses + training glosses------------------------------\n",
      "Coverage on the train set glosses: 100.00\n",
      "Coverage on the dev set glosses: 89.43\n",
      "Coverage on the test set glosses: 93.40\n",
      "\n",
      "------------------------------Coverages of the AnCora glosses------------------------------\n",
      "Coverage on the train set glosses: 39.85\n",
      "Coverage on the dev set glosses: 52.85\n",
      "Coverage on the test set glosses: 47.17\n",
      "\n",
      "------------------------------Coverages of the AnCora glosses + training glosses------------------------------\n",
      "Coverage on the train set glosses: 100.00\n",
      "Coverage on the dev set glosses: 93.50\n",
      "Coverage on the test set glosses: 96.23\n",
      "------------------------------Coverages of the Meteocat glosses------------------------------\n",
      "Coverage on the train set glosses: 19.92\n",
      "Coverage on the dev set glosses: 26.02\n",
      "Coverage on the test set glosses: 30.19\n",
      "\n",
      "------------------------------Coverages of the Meteocat glosses + training glosses------------------------------\n",
      "Coverage on the train set glosses: 100.00\n",
      "Coverage on the dev set glosses: 90.24\n",
      "Coverage on the test set glosses: 94.34\n"
     ]
    }
   ],
   "source": [
    "print(\"---\"*10 + \"Coverages of the training glosses\" + \"---\"*10)\n",
    "print(f\"Coverage on the train set glosses: {get_coverage(training_glosses, training_glosses):.2f}\")\n",
    "print(f\"Coverage on the dev set glosses: {get_coverage(training_glosses, dev_glosses):.2f}\")\n",
    "print(f\"Coverage on the test set glosses: {get_coverage(training_glosses, test_glosses):.2f}\")\n",
    "print(f\"Coverage on the total of glosses: {get_coverage(training_glosses, total_glosses):.2f}\")\n",
    "print()\n",
    "\n",
    "print(\"---\"*10 + \"Coverages of the dev glosses\" + \"---\"*10)\n",
    "print(f\"Coverage on the train set glosses: {get_coverage(dev_glosses, training_glosses):.2f}\")\n",
    "print(f\"Coverage on the dev set glosses: {get_coverage(dev_glosses, dev_glosses):.2f}\")\n",
    "print(f\"Coverage on the test set glosses: {get_coverage(dev_glosses, test_glosses):.2f}\")\n",
    "print(f\"Coverage on the total of glosses: {get_coverage(dev_glosses, total_glosses):.2f}\")\n",
    "print()\n",
    "\n",
    "print(\"---\"*10 + \"Coverages of the test glosses\" + \"---\"*10)\n",
    "print(f\"Coverage on the train set glosses: {get_coverage(test_glosses, training_glosses):.2f}\")\n",
    "print(f\"Coverage on the dev set glosses: {get_coverage(test_glosses, dev_glosses):.2f}\")\n",
    "print(f\"Coverage on the test set glosses: {get_coverage(test_glosses, test_glosses):.2f}\")\n",
    "print(f\"Coverage on the total of glosses: {get_coverage(test_glosses, total_glosses):.2f}\")\n",
    "print()\n",
    "\n",
    "print(\"---\"*10 + \"Coverages of the Tatoeba glosses\" + \"---\"*10)\n",
    "print(f\"Coverage on the train set glosses: {get_coverage(tatoeba_general_glosses, training_glosses):.2f}\")\n",
    "print(f\"Coverage on the dev set glosses: {get_coverage(tatoeba_general_glosses, dev_glosses):.2f}\")\n",
    "print(f\"Coverage on the test set glosses: {get_coverage(tatoeba_general_glosses, test_glosses):.2f}\")\n",
    "print()\n",
    "\n",
    "print(\"---\"*10 + \"Coverages of the Tatoeba glosses + training glosses\" + \"---\"*10)\n",
    "tatoeba_train_glosses = tatoeba_general_glosses.union(training_glosses)\n",
    "print(f\"Coverage on the train set glosses: {get_coverage(tatoeba_train_glosses, training_glosses):.2f}\")\n",
    "print(f\"Coverage on the dev set glosses: {get_coverage(tatoeba_train_glosses, dev_glosses):.2f}\")\n",
    "print(f\"Coverage on the test set glosses: {get_coverage(tatoeba_train_glosses, test_glosses):.2f}\")\n",
    "print()\n",
    "\n",
    "print(\"---\"*10 + \"Coverages of the AnCora glosses\" + \"---\"*10)\n",
    "print(f\"Coverage on the train set glosses: {get_coverage(ancora_general_glosses, training_glosses):.2f}\")\n",
    "print(f\"Coverage on the dev set glosses: {get_coverage(ancora_general_glosses, dev_glosses):.2f}\")\n",
    "print(f\"Coverage on the test set glosses: {get_coverage(ancora_general_glosses, test_glosses):.2f}\")\n",
    "print()\n",
    "\n",
    "print(\"---\"*10 + \"Coverages of the AnCora glosses + training glosses\" + \"---\"*10)\n",
    "ancora_train_glosses = ancora_general_glosses.union(training_glosses)\n",
    "print(f\"Coverage on the train set glosses: {get_coverage(ancora_train_glosses, training_glosses):.2f}\")\n",
    "print(f\"Coverage on the dev set glosses: {get_coverage(ancora_train_glosses, dev_glosses):.2f}\")\n",
    "print(f\"Coverage on the test set glosses: {get_coverage(ancora_train_glosses, test_glosses):.2f}\")\n",
    "\n",
    "print(\"---\"*10 + \"Coverages of the Meteocat glosses\" + \"---\"*10)\n",
    "print(f\"Coverage on the train set glosses: {get_coverage(meteocat_general_glosses, training_glosses):.2f}\")\n",
    "print(f\"Coverage on the dev set glosses: {get_coverage(meteocat_general_glosses, dev_glosses):.2f}\")\n",
    "print(f\"Coverage on the test set glosses: {get_coverage(meteocat_general_glosses, test_glosses):.2f}\")\n",
    "print()\n",
    "\n",
    "print(\"---\"*10 + \"Coverages of the Meteocat glosses + training glosses\" + \"---\"*10)\n",
    "meteocat_train_glosses = meteocat_general_glosses.union(training_glosses)\n",
    "print(f\"Coverage on the train set glosses: {get_coverage(meteocat_train_glosses, training_glosses):.2f}\")\n",
    "print(f\"Coverage on the dev set glosses: {get_coverage(meteocat_train_glosses, dev_glosses):.2f}\")\n",
    "print(f\"Coverage on the test set glosses: {get_coverage(meteocat_train_glosses, test_glosses):.2f}\")"
   ]
  },
  {
   "cell_type": "markdown",
   "metadata": {},
   "source": [
    "## Now we do the same with the LSC augmented glosses"
   ]
  },
  {
   "cell_type": "code",
   "execution_count": 8,
   "metadata": {},
   "outputs": [
    {
     "name": "stdout",
     "output_type": "stream",
     "text": [
      "266\n",
      "123\n",
      "106\n",
      "3899\n",
      "2614\n",
      "252\n"
     ]
    }
   ],
   "source": [
    "training_glosses = get_wordset(\"data/meteo.lsc-filtered.lsc.subword.train.desubword\")\n",
    "dev_glosses = get_wordset(\"data/meteo.lsc-filtered.lsc.subword.dev.desubword\")\n",
    "test_glosses = get_wordset(\"data/meteo.lsc-filtered.lsc.subword.test.desubword\")\n",
    "total_glosses = training_glosses.union(dev_glosses.union(test_glosses))\n",
    "\n",
    "ancora_LSC_glosses = get_wordset(\"data/augmented_LSC_ancora/augmented_LSC_ancora.lsc\")\n",
    "tatoeba_LSC_glosses = get_wordset(\"data/augmented_LSC_tatoeba/augmented_LSC_tatoeba.lsc\")\n",
    "meteocat_LSC_glosses = get_wordset(\"data/augmented_LSC_meteocat/augmented_LSC_meteocat.lsc\")"
   ]
  },
  {
   "cell_type": "code",
   "execution_count": 9,
   "metadata": {},
   "outputs": [
    {
     "name": "stdout",
     "output_type": "stream",
     "text": [
      "------------------------------Coverages of the training glosses------------------------------\n",
      "Coverage on the train set glosses: 100.00\n",
      "Coverage on the dev set glosses: 87.80\n",
      "Coverage on the test set glosses: 92.45\n",
      "Coverage on the total of glosses: 93.01\n",
      "\n",
      "------------------------------Coverages of the dev glosses------------------------------\n",
      "Coverage on the train set glosses: 40.60\n",
      "Coverage on the dev set glosses: 100.00\n",
      "Coverage on the test set glosses: 61.32\n",
      "Coverage on the total of glosses: 43.01\n",
      "\n",
      "------------------------------Coverages of the test glosses------------------------------\n",
      "Coverage on the train set glosses: 36.84\n",
      "Coverage on the dev set glosses: 52.85\n",
      "Coverage on the test set glosses: 100.00\n",
      "Coverage on the total of glosses: 37.06\n",
      "\n",
      "------------------------------Coverages of the Tatoeba glosses------------------------------\n",
      "Coverage on the train set glosses: 33.08\n",
      "Coverage on the dev set glosses: 42.28\n",
      "Coverage on the test set glosses: 39.62\n",
      "\n",
      "------------------------------Coverages of the Tatoeba glosses + training glosses------------------------------\n",
      "Coverage on the train set glosses: 100.00\n",
      "Coverage on the dev set glosses: 89.43\n",
      "Coverage on the test set glosses: 93.40\n",
      "\n",
      "------------------------------Coverages of the AnCora glosses------------------------------\n",
      "Coverage on the train set glosses: 38.72\n",
      "Coverage on the dev set glosses: 51.22\n",
      "Coverage on the test set glosses: 47.17\n",
      "\n",
      "------------------------------Coverages of the AnCora glosses + training glosses------------------------------\n",
      "Coverage on the train set glosses: 100.00\n",
      "Coverage on the dev set glosses: 93.50\n",
      "Coverage on the test set glosses: 96.23\n",
      "------------------------------Coverages of the Meteocat glosses------------------------------\n",
      "Coverage on the train set glosses: 21.80\n",
      "Coverage on the dev set glosses: 30.08\n",
      "Coverage on the test set glosses: 34.91\n",
      "\n",
      "------------------------------Coverages of the Meteocat glosses + training glosses------------------------------\n",
      "Coverage on the train set glosses: 100.00\n",
      "Coverage on the dev set glosses: 90.24\n",
      "Coverage on the test set glosses: 94.34\n"
     ]
    }
   ],
   "source": [
    "print(\"---\"*10 + \"Coverages of the training glosses\" + \"---\"*10)\n",
    "print(f\"Coverage on the train set glosses: {get_coverage(training_glosses, training_glosses):.2f}\")\n",
    "print(f\"Coverage on the dev set glosses: {get_coverage(training_glosses, dev_glosses):.2f}\")\n",
    "print(f\"Coverage on the test set glosses: {get_coverage(training_glosses, test_glosses):.2f}\")\n",
    "print(f\"Coverage on the total of glosses: {get_coverage(training_glosses, total_glosses):.2f}\")\n",
    "print()\n",
    "\n",
    "print(\"---\"*10 + \"Coverages of the dev glosses\" + \"---\"*10)\n",
    "print(f\"Coverage on the train set glosses: {get_coverage(dev_glosses, training_glosses):.2f}\")\n",
    "print(f\"Coverage on the dev set glosses: {get_coverage(dev_glosses, dev_glosses):.2f}\")\n",
    "print(f\"Coverage on the test set glosses: {get_coverage(dev_glosses, test_glosses):.2f}\")\n",
    "print(f\"Coverage on the total of glosses: {get_coverage(dev_glosses, total_glosses):.2f}\")\n",
    "print()\n",
    "\n",
    "print(\"---\"*10 + \"Coverages of the test glosses\" + \"---\"*10)\n",
    "print(f\"Coverage on the train set glosses: {get_coverage(test_glosses, training_glosses):.2f}\")\n",
    "print(f\"Coverage on the dev set glosses: {get_coverage(test_glosses, dev_glosses):.2f}\")\n",
    "print(f\"Coverage on the test set glosses: {get_coverage(test_glosses, test_glosses):.2f}\")\n",
    "print(f\"Coverage on the total of glosses: {get_coverage(test_glosses, total_glosses):.2f}\")\n",
    "print()\n",
    "\n",
    "print(\"---\"*10 + \"Coverages of the Tatoeba glosses\" + \"---\"*10)\n",
    "print(f\"Coverage on the train set glosses: {get_coverage(tatoeba_LSC_glosses, training_glosses):.2f}\")\n",
    "print(f\"Coverage on the dev set glosses: {get_coverage(tatoeba_LSC_glosses, dev_glosses):.2f}\")\n",
    "print(f\"Coverage on the test set glosses: {get_coverage(tatoeba_LSC_glosses, test_glosses):.2f}\")\n",
    "print()\n",
    "\n",
    "print(\"---\"*10 + \"Coverages of the Tatoeba glosses + training glosses\" + \"---\"*10)\n",
    "tatoeba_train_glosses = tatoeba_LSC_glosses.union(training_glosses)\n",
    "print(f\"Coverage on the train set glosses: {get_coverage(tatoeba_train_glosses, training_glosses):.2f}\")\n",
    "print(f\"Coverage on the dev set glosses: {get_coverage(tatoeba_train_glosses, dev_glosses):.2f}\")\n",
    "print(f\"Coverage on the test set glosses: {get_coverage(tatoeba_train_glosses, test_glosses):.2f}\")\n",
    "print()\n",
    "\n",
    "print(\"---\"*10 + \"Coverages of the AnCora glosses\" + \"---\"*10)\n",
    "print(f\"Coverage on the train set glosses: {get_coverage(ancora_LSC_glosses, training_glosses):.2f}\")\n",
    "print(f\"Coverage on the dev set glosses: {get_coverage(ancora_LSC_glosses, dev_glosses):.2f}\")\n",
    "print(f\"Coverage on the test set glosses: {get_coverage(ancora_LSC_glosses, test_glosses):.2f}\")\n",
    "print()\n",
    "\n",
    "print(\"---\"*10 + \"Coverages of the AnCora glosses + training glosses\" + \"---\"*10)\n",
    "ancora_train_glosses = ancora_LSC_glosses.union(training_glosses)\n",
    "print(f\"Coverage on the train set glosses: {get_coverage(ancora_train_glosses, training_glosses):.2f}\")\n",
    "print(f\"Coverage on the dev set glosses: {get_coverage(ancora_train_glosses, dev_glosses):.2f}\")\n",
    "print(f\"Coverage on the test set glosses: {get_coverage(ancora_train_glosses, test_glosses):.2f}\")\n",
    "\n",
    "print(\"---\"*10 + \"Coverages of the Meteocat glosses\" + \"---\"*10)\n",
    "print(f\"Coverage on the train set glosses: {get_coverage(meteocat_LSC_glosses, training_glosses):.2f}\")\n",
    "print(f\"Coverage on the dev set glosses: {get_coverage(meteocat_LSC_glosses, dev_glosses):.2f}\")\n",
    "print(f\"Coverage on the test set glosses: {get_coverage(meteocat_LSC_glosses, test_glosses):.2f}\")\n",
    "print()\n",
    "\n",
    "print(\"---\"*10 + \"Coverages of the Meteocat glosses + training glosses\" + \"---\"*10)\n",
    "meteocat_train_glosses = meteocat_LSC_glosses.union(training_glosses)\n",
    "print(f\"Coverage on the train set glosses: {get_coverage(meteocat_train_glosses, training_glosses):.2f}\")\n",
    "print(f\"Coverage on the dev set glosses: {get_coverage(meteocat_train_glosses, dev_glosses):.2f}\")\n",
    "print(f\"Coverage on the test set glosses: {get_coverage(meteocat_train_glosses, test_glosses):.2f}\")"
   ]
  }
 ],
 "metadata": {
  "kernelspec": {
   "display_name": ".venv",
   "language": "python",
   "name": "python3"
  },
  "language_info": {
   "codemirror_mode": {
    "name": "ipython",
    "version": 3
   },
   "file_extension": ".py",
   "mimetype": "text/x-python",
   "name": "python",
   "nbconvert_exporter": "python",
   "pygments_lexer": "ipython3",
   "version": "3.12.2"
  }
 },
 "nbformat": 4,
 "nbformat_minor": 2
}
